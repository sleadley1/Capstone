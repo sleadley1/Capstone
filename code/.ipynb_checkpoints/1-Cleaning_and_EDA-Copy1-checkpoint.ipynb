{
 "cells": [
  {
   "cell_type": "markdown",
   "metadata": {},
   "source": [
    "# Capstone Project\n",
    "*Author: Samuel Leadley*\n",
    "## Data Cleaning and EDA\n",
    "## Table of Contents\n",
    "1. [Load Data](#Load-Data)\n",
    "2. [Data Cleaning](#Data-Cleaning)\n",
    "3. [Export Data](#Export-Data)\n",
    "4. [EDA](#EDA)"
   ]
  },
  {
   "cell_type": "code",
   "execution_count": 1,
   "metadata": {},
   "outputs": [],
   "source": [
    "# imports\n",
    "import pandas as pd\n",
    "import matplotlib.pyplot as plt\n",
    "import seaborn as sns\n",
    "from pandas import datetime\n",
    "from nltk.stem import WordNetLemmatizer\n",
    "from nltk.stem.porter import PorterStemmer\n",
    "from nltk.tokenize import RegexpTokenizer\n",
    "from nltk.corpus import stopwords\n",
    "import regex as re\n",
    "from sklearn.feature_extraction.text import CountVectorizer, TfidfVectorizer\n",
    "\n",
    "%matplotlib inline"
   ]
  },
  {
   "cell_type": "markdown",
   "metadata": {},
   "source": [
    "## Load Data"
   ]
  },
  {
   "cell_type": "code",
   "execution_count": 2,
   "metadata": {},
   "outputs": [
    {
     "data": {
      "text/html": [
       "<div>\n",
       "<style scoped>\n",
       "    .dataframe tbody tr th:only-of-type {\n",
       "        vertical-align: middle;\n",
       "    }\n",
       "\n",
       "    .dataframe tbody tr th {\n",
       "        vertical-align: top;\n",
       "    }\n",
       "\n",
       "    .dataframe thead th {\n",
       "        text-align: right;\n",
       "    }\n",
       "</style>\n",
       "<table border=\"1\" class=\"dataframe\">\n",
       "  <thead>\n",
       "    <tr style=\"text-align: right;\">\n",
       "      <th></th>\n",
       "      <th>company</th>\n",
       "      <th>ticker</th>\n",
       "      <th>sector</th>\n",
       "      <th>year</th>\n",
       "      <th>letter_to_shareholders</th>\n",
       "    </tr>\n",
       "  </thead>\n",
       "  <tbody>\n",
       "    <tr>\n",
       "      <th>0</th>\n",
       "      <td>Goldman Sachs</td>\n",
       "      <td>GS</td>\n",
       "      <td>Financials</td>\n",
       "      <td>1999</td>\n",
       "      <td>This is our first letter to shareholders, incl...</td>\n",
       "    </tr>\n",
       "    <tr>\n",
       "      <th>1</th>\n",
       "      <td>Goldman Sachs</td>\n",
       "      <td>GS</td>\n",
       "      <td>Financials</td>\n",
       "      <td>2000</td>\n",
       "      <td>2000 was a remarkable year for Goldman Sachs a...</td>\n",
       "    </tr>\n",
       "    <tr>\n",
       "      <th>2</th>\n",
       "      <td>Goldman Sachs</td>\n",
       "      <td>GS</td>\n",
       "      <td>Financials</td>\n",
       "      <td>2001</td>\n",
       "      <td>It is impossible to discuss 2001 without begin...</td>\n",
       "    </tr>\n",
       "    <tr>\n",
       "      <th>3</th>\n",
       "      <td>Goldman Sachs</td>\n",
       "      <td>GS</td>\n",
       "      <td>Financials</td>\n",
       "      <td>2002</td>\n",
       "      <td>It was a challenging year for Goldman Sachs. T...</td>\n",
       "    </tr>\n",
       "    <tr>\n",
       "      <th>4</th>\n",
       "      <td>Goldman Sachs</td>\n",
       "      <td>GS</td>\n",
       "      <td>Financials</td>\n",
       "      <td>2003</td>\n",
       "      <td>Looking back on 2003, we take pride in our per...</td>\n",
       "    </tr>\n",
       "  </tbody>\n",
       "</table>\n",
       "</div>"
      ],
      "text/plain": [
       "         company ticker      sector  year  \\\n",
       "0  Goldman Sachs     GS  Financials  1999   \n",
       "1  Goldman Sachs     GS  Financials  2000   \n",
       "2  Goldman Sachs     GS  Financials  2001   \n",
       "3  Goldman Sachs     GS  Financials  2002   \n",
       "4  Goldman Sachs     GS  Financials  2003   \n",
       "\n",
       "                              letter_to_shareholders  \n",
       "0  This is our first letter to shareholders, incl...  \n",
       "1  2000 was a remarkable year for Goldman Sachs a...  \n",
       "2  It is impossible to discuss 2001 without begin...  \n",
       "3  It was a challenging year for Goldman Sachs. T...  \n",
       "4  Looking back on 2003, we take pride in our per...  "
      ]
     },
     "execution_count": 2,
     "metadata": {},
     "output_type": "execute_result"
    }
   ],
   "source": [
    "shareholder_letters = pd.read_csv('../datasets/leadsheet.csv', encoding='Latin-1')\n",
    "shareholder_letters.head()"
   ]
  },
  {
   "cell_type": "code",
   "execution_count": 3,
   "metadata": {},
   "outputs": [
    {
     "data": {
      "text/plain": [
       "(166, 5)"
      ]
     },
     "execution_count": 3,
     "metadata": {},
     "output_type": "execute_result"
    }
   ],
   "source": [
    "# check shape\n",
    "shareholder_letters.shape"
   ]
  },
  {
   "cell_type": "markdown",
   "metadata": {},
   "source": [
    "## Data Cleaning\n",
    "### Check for nulls"
   ]
  },
  {
   "cell_type": "code",
   "execution_count": 4,
   "metadata": {},
   "outputs": [
    {
     "data": {
      "text/plain": [
       "company                   0\n",
       "ticker                    0\n",
       "sector                    0\n",
       "year                      0\n",
       "letter_to_shareholders    0\n",
       "dtype: int64"
      ]
     },
     "execution_count": 4,
     "metadata": {},
     "output_type": "execute_result"
    }
   ],
   "source": [
    "# check nulls for each column\n",
    "shareholder_letters.isnull().sum()"
   ]
  },
  {
   "cell_type": "markdown",
   "metadata": {},
   "source": [
    "### Check Data Types"
   ]
  },
  {
   "cell_type": "code",
   "execution_count": 5,
   "metadata": {},
   "outputs": [
    {
     "data": {
      "text/plain": [
       "company                   object\n",
       "ticker                    object\n",
       "sector                    object\n",
       "year                       int64\n",
       "letter_to_shareholders    object\n",
       "dtype: object"
      ]
     },
     "execution_count": 5,
     "metadata": {},
     "output_type": "execute_result"
    }
   ],
   "source": [
    "shareholder_letters.dtypes"
   ]
  },
  {
   "cell_type": "markdown",
   "metadata": {},
   "source": [
    "### Mapping Target Variable"
   ]
  },
  {
   "cell_type": "code",
   "execution_count": 6,
   "metadata": {},
   "outputs": [
    {
     "data": {
      "text/plain": [
       "['GS', 'BAC', 'CVX', 'HAL', 'QCOM', 'IBM', 'ADBE', 'XRX', 'UHS', 'UNH', 'CVS']"
      ]
     },
     "execution_count": 6,
     "metadata": {},
     "output_type": "execute_result"
    }
   ],
   "source": [
    "ticker_lst = list(shareholder_letters['ticker'].unique())\n",
    "ticker_lst"
   ]
  },
  {
   "cell_type": "code",
   "execution_count": 7,
   "metadata": {},
   "outputs": [
    {
     "data": {
      "text/html": [
       "<div>\n",
       "<style scoped>\n",
       "    .dataframe tbody tr th:only-of-type {\n",
       "        vertical-align: middle;\n",
       "    }\n",
       "\n",
       "    .dataframe tbody tr th {\n",
       "        vertical-align: top;\n",
       "    }\n",
       "\n",
       "    .dataframe thead th {\n",
       "        text-align: right;\n",
       "    }\n",
       "</style>\n",
       "<table border=\"1\" class=\"dataframe\">\n",
       "  <thead>\n",
       "    <tr style=\"text-align: right;\">\n",
       "      <th></th>\n",
       "      <th>year</th>\n",
       "      <th>net_income</th>\n",
       "      <th>unit</th>\n",
       "      <th>ticker</th>\n",
       "      <th>target</th>\n",
       "    </tr>\n",
       "  </thead>\n",
       "  <tbody>\n",
       "    <tr>\n",
       "      <th>0</th>\n",
       "      <td>2018</td>\n",
       "      <td>10.46B</td>\n",
       "      <td>B</td>\n",
       "      <td>GS</td>\n",
       "      <td>1.0</td>\n",
       "    </tr>\n",
       "    <tr>\n",
       "      <th>1</th>\n",
       "      <td>2017</td>\n",
       "      <td>4.286B</td>\n",
       "      <td>B</td>\n",
       "      <td>GS</td>\n",
       "      <td>0.0</td>\n",
       "    </tr>\n",
       "    <tr>\n",
       "      <th>2</th>\n",
       "      <td>2016</td>\n",
       "      <td>7.398B</td>\n",
       "      <td>B</td>\n",
       "      <td>GS</td>\n",
       "      <td>1.0</td>\n",
       "    </tr>\n",
       "    <tr>\n",
       "      <th>3</th>\n",
       "      <td>2015</td>\n",
       "      <td>6.083B</td>\n",
       "      <td>B</td>\n",
       "      <td>GS</td>\n",
       "      <td>0.0</td>\n",
       "    </tr>\n",
       "    <tr>\n",
       "      <th>4</th>\n",
       "      <td>2014</td>\n",
       "      <td>8.477B</td>\n",
       "      <td>B</td>\n",
       "      <td>GS</td>\n",
       "      <td>1.0</td>\n",
       "    </tr>\n",
       "  </tbody>\n",
       "</table>\n",
       "</div>"
      ],
      "text/plain": [
       "   year net_income unit ticker  target\n",
       "0  2018     10.46B    B     GS     1.0\n",
       "1  2017     4.286B    B     GS     0.0\n",
       "2  2016     7.398B    B     GS     1.0\n",
       "3  2015     6.083B    B     GS     0.0\n",
       "4  2014     8.477B    B     GS     1.0"
      ]
     },
     "execution_count": 7,
     "metadata": {},
     "output_type": "execute_result"
    }
   ],
   "source": [
    "# reading in net income data for each company\n",
    "ni_data = pd.read_csv('../datasets/ni_data.csv')\n",
    "ni_data.head()"
   ]
  },
  {
   "cell_type": "markdown",
   "metadata": {},
   "source": [
    "Net income data was collected from y-charts, an online financial data research company. The net income data came in either billions (denoted by a B) or millions (denoted by a M). Below I will convert all figures into billions. The target variable was calculated in excel by comparing the net income from the previous year to that of the current year. If the net income increase year-over-year it was labeled as a 1 and if it had decreased it was labeled as a 0 (there were no istances of neither an increase nor decrease). "
   ]
  },
  {
   "cell_type": "code",
   "execution_count": 8,
   "metadata": {},
   "outputs": [],
   "source": [
    "ni_data['net_income'] = [i.replace('B', '') for i in ni_data['net_income']]\n",
    "ni_data['net_income'] = [i.replace('M', '') for i in ni_data['net_income']]\n",
    "ni_data['net_income'] = ni_data['net_income'].astype(float)"
   ]
  },
  {
   "cell_type": "code",
   "execution_count": 9,
   "metadata": {},
   "outputs": [],
   "source": [
    "def net_income_to_B(df):\n",
    "    for row,value in enumerate(df['net_income']):\n",
    "        if df['unit'][row] == 'B':\n",
    "            df['net_income'][row] = value * 1\n",
    "        else:\n",
    "            df['net_income'][row] = value * 0.001\n",
    "    return(df)"
   ]
  },
  {
   "cell_type": "code",
   "execution_count": 10,
   "metadata": {},
   "outputs": [
    {
     "name": "stderr",
     "output_type": "stream",
     "text": [
      "/Users/samuelleadley/anaconda3/lib/python3.7/site-packages/ipykernel_launcher.py:4: SettingWithCopyWarning: \n",
      "A value is trying to be set on a copy of a slice from a DataFrame\n",
      "\n",
      "See the caveats in the documentation: http://pandas.pydata.org/pandas-docs/stable/user_guide/indexing.html#returning-a-view-versus-a-copy\n",
      "  after removing the cwd from sys.path.\n",
      "/Users/samuelleadley/anaconda3/lib/python3.7/site-packages/ipykernel_launcher.py:6: SettingWithCopyWarning: \n",
      "A value is trying to be set on a copy of a slice from a DataFrame\n",
      "\n",
      "See the caveats in the documentation: http://pandas.pydata.org/pandas-docs/stable/user_guide/indexing.html#returning-a-view-versus-a-copy\n",
      "  \n"
     ]
    }
   ],
   "source": [
    "ni_data = net_income_to_B(ni_data)"
   ]
  },
  {
   "cell_type": "code",
   "execution_count": 11,
   "metadata": {},
   "outputs": [
    {
     "data": {
      "text/html": [
       "<div>\n",
       "<style scoped>\n",
       "    .dataframe tbody tr th:only-of-type {\n",
       "        vertical-align: middle;\n",
       "    }\n",
       "\n",
       "    .dataframe tbody tr th {\n",
       "        vertical-align: top;\n",
       "    }\n",
       "\n",
       "    .dataframe thead th {\n",
       "        text-align: right;\n",
       "    }\n",
       "</style>\n",
       "<table border=\"1\" class=\"dataframe\">\n",
       "  <thead>\n",
       "    <tr style=\"text-align: right;\">\n",
       "      <th></th>\n",
       "      <th>year</th>\n",
       "      <th>net_income</th>\n",
       "      <th>unit</th>\n",
       "      <th>ticker</th>\n",
       "      <th>target</th>\n",
       "    </tr>\n",
       "  </thead>\n",
       "  <tbody>\n",
       "    <tr>\n",
       "      <th>0</th>\n",
       "      <td>2018</td>\n",
       "      <td>10.460</td>\n",
       "      <td>B</td>\n",
       "      <td>GS</td>\n",
       "      <td>1.0</td>\n",
       "    </tr>\n",
       "    <tr>\n",
       "      <th>1</th>\n",
       "      <td>2017</td>\n",
       "      <td>4.286</td>\n",
       "      <td>B</td>\n",
       "      <td>GS</td>\n",
       "      <td>0.0</td>\n",
       "    </tr>\n",
       "    <tr>\n",
       "      <th>2</th>\n",
       "      <td>2016</td>\n",
       "      <td>7.398</td>\n",
       "      <td>B</td>\n",
       "      <td>GS</td>\n",
       "      <td>1.0</td>\n",
       "    </tr>\n",
       "    <tr>\n",
       "      <th>3</th>\n",
       "      <td>2015</td>\n",
       "      <td>6.083</td>\n",
       "      <td>B</td>\n",
       "      <td>GS</td>\n",
       "      <td>0.0</td>\n",
       "    </tr>\n",
       "    <tr>\n",
       "      <th>4</th>\n",
       "      <td>2014</td>\n",
       "      <td>8.477</td>\n",
       "      <td>B</td>\n",
       "      <td>GS</td>\n",
       "      <td>1.0</td>\n",
       "    </tr>\n",
       "  </tbody>\n",
       "</table>\n",
       "</div>"
      ],
      "text/plain": [
       "   year  net_income unit ticker  target\n",
       "0  2018      10.460    B     GS     1.0\n",
       "1  2017       4.286    B     GS     0.0\n",
       "2  2016       7.398    B     GS     1.0\n",
       "3  2015       6.083    B     GS     0.0\n",
       "4  2014       8.477    B     GS     1.0"
      ]
     },
     "execution_count": 11,
     "metadata": {},
     "output_type": "execute_result"
    }
   ],
   "source": [
    "ni_data.head()"
   ]
  },
  {
   "cell_type": "code",
   "execution_count": 12,
   "metadata": {},
   "outputs": [
    {
     "data": {
      "text/html": [
       "<div>\n",
       "<style scoped>\n",
       "    .dataframe tbody tr th:only-of-type {\n",
       "        vertical-align: middle;\n",
       "    }\n",
       "\n",
       "    .dataframe tbody tr th {\n",
       "        vertical-align: top;\n",
       "    }\n",
       "\n",
       "    .dataframe thead th {\n",
       "        text-align: right;\n",
       "    }\n",
       "</style>\n",
       "<table border=\"1\" class=\"dataframe\">\n",
       "  <thead>\n",
       "    <tr style=\"text-align: right;\">\n",
       "      <th></th>\n",
       "      <th>company</th>\n",
       "      <th>ticker</th>\n",
       "      <th>sector</th>\n",
       "      <th>year</th>\n",
       "      <th>letter_to_shareholders</th>\n",
       "    </tr>\n",
       "  </thead>\n",
       "  <tbody>\n",
       "    <tr>\n",
       "      <th>0</th>\n",
       "      <td>Goldman Sachs</td>\n",
       "      <td>GS</td>\n",
       "      <td>Financials</td>\n",
       "      <td>1999</td>\n",
       "      <td>This is our first letter to shareholders, incl...</td>\n",
       "    </tr>\n",
       "    <tr>\n",
       "      <th>1</th>\n",
       "      <td>Goldman Sachs</td>\n",
       "      <td>GS</td>\n",
       "      <td>Financials</td>\n",
       "      <td>2000</td>\n",
       "      <td>2000 was a remarkable year for Goldman Sachs a...</td>\n",
       "    </tr>\n",
       "    <tr>\n",
       "      <th>2</th>\n",
       "      <td>Goldman Sachs</td>\n",
       "      <td>GS</td>\n",
       "      <td>Financials</td>\n",
       "      <td>2001</td>\n",
       "      <td>It is impossible to discuss 2001 without begin...</td>\n",
       "    </tr>\n",
       "    <tr>\n",
       "      <th>3</th>\n",
       "      <td>Goldman Sachs</td>\n",
       "      <td>GS</td>\n",
       "      <td>Financials</td>\n",
       "      <td>2002</td>\n",
       "      <td>It was a challenging year for Goldman Sachs. T...</td>\n",
       "    </tr>\n",
       "    <tr>\n",
       "      <th>4</th>\n",
       "      <td>Goldman Sachs</td>\n",
       "      <td>GS</td>\n",
       "      <td>Financials</td>\n",
       "      <td>2003</td>\n",
       "      <td>Looking back on 2003, we take pride in our per...</td>\n",
       "    </tr>\n",
       "  </tbody>\n",
       "</table>\n",
       "</div>"
      ],
      "text/plain": [
       "         company ticker      sector  year  \\\n",
       "0  Goldman Sachs     GS  Financials  1999   \n",
       "1  Goldman Sachs     GS  Financials  2000   \n",
       "2  Goldman Sachs     GS  Financials  2001   \n",
       "3  Goldman Sachs     GS  Financials  2002   \n",
       "4  Goldman Sachs     GS  Financials  2003   \n",
       "\n",
       "                              letter_to_shareholders  \n",
       "0  This is our first letter to shareholders, incl...  \n",
       "1  2000 was a remarkable year for Goldman Sachs a...  \n",
       "2  It is impossible to discuss 2001 without begin...  \n",
       "3  It was a challenging year for Goldman Sachs. T...  \n",
       "4  Looking back on 2003, we take pride in our per...  "
      ]
     },
     "execution_count": 12,
     "metadata": {},
     "output_type": "execute_result"
    }
   ],
   "source": [
    "shareholder_letters.head()"
   ]
  },
  {
   "cell_type": "code",
   "execution_count": 13,
   "metadata": {},
   "outputs": [],
   "source": [
    "ni_data['index'] = ni_data['ticker'] + ni_data['year'].astype(str)\n",
    "shareholder_letters['index'] = shareholder_letters['ticker'] + shareholder_letters['year'].astype(str)"
   ]
  },
  {
   "cell_type": "code",
   "execution_count": 14,
   "metadata": {},
   "outputs": [],
   "source": [
    "shareholder_letters = pd.merge(shareholder_letters, ni_data, on='index')\n",
    "shareholder_letters.drop(['index', 'year_y', 'ticker_y', 'unit'], axis = 1, inplace=True)\n",
    "shareholder_letters.columns = ['company', 'ticker', 'sector', 'year', 'letter_to_shareholder', 'net_income', 'target']"
   ]
  },
  {
   "cell_type": "code",
   "execution_count": 15,
   "metadata": {},
   "outputs": [
    {
     "data": {
      "text/html": [
       "<div>\n",
       "<style scoped>\n",
       "    .dataframe tbody tr th:only-of-type {\n",
       "        vertical-align: middle;\n",
       "    }\n",
       "\n",
       "    .dataframe tbody tr th {\n",
       "        vertical-align: top;\n",
       "    }\n",
       "\n",
       "    .dataframe thead th {\n",
       "        text-align: right;\n",
       "    }\n",
       "</style>\n",
       "<table border=\"1\" class=\"dataframe\">\n",
       "  <thead>\n",
       "    <tr style=\"text-align: right;\">\n",
       "      <th></th>\n",
       "      <th>company</th>\n",
       "      <th>ticker</th>\n",
       "      <th>sector</th>\n",
       "      <th>year</th>\n",
       "      <th>letter_to_shareholder</th>\n",
       "      <th>net_income</th>\n",
       "      <th>target</th>\n",
       "    </tr>\n",
       "  </thead>\n",
       "  <tbody>\n",
       "    <tr>\n",
       "      <th>0</th>\n",
       "      <td>Goldman Sachs</td>\n",
       "      <td>GS</td>\n",
       "      <td>Financials</td>\n",
       "      <td>1999</td>\n",
       "      <td>This is our first letter to shareholders, incl...</td>\n",
       "      <td>2.708</td>\n",
       "      <td>NaN</td>\n",
       "    </tr>\n",
       "    <tr>\n",
       "      <th>1</th>\n",
       "      <td>Goldman Sachs</td>\n",
       "      <td>GS</td>\n",
       "      <td>Financials</td>\n",
       "      <td>2000</td>\n",
       "      <td>2000 was a remarkable year for Goldman Sachs a...</td>\n",
       "      <td>3.067</td>\n",
       "      <td>1.0</td>\n",
       "    </tr>\n",
       "    <tr>\n",
       "      <th>2</th>\n",
       "      <td>Goldman Sachs</td>\n",
       "      <td>GS</td>\n",
       "      <td>Financials</td>\n",
       "      <td>2001</td>\n",
       "      <td>It is impossible to discuss 2001 without begin...</td>\n",
       "      <td>2.310</td>\n",
       "      <td>0.0</td>\n",
       "    </tr>\n",
       "    <tr>\n",
       "      <th>3</th>\n",
       "      <td>Goldman Sachs</td>\n",
       "      <td>GS</td>\n",
       "      <td>Financials</td>\n",
       "      <td>2002</td>\n",
       "      <td>It was a challenging year for Goldman Sachs. T...</td>\n",
       "      <td>2.114</td>\n",
       "      <td>0.0</td>\n",
       "    </tr>\n",
       "    <tr>\n",
       "      <th>4</th>\n",
       "      <td>Goldman Sachs</td>\n",
       "      <td>GS</td>\n",
       "      <td>Financials</td>\n",
       "      <td>2003</td>\n",
       "      <td>Looking back on 2003, we take pride in our per...</td>\n",
       "      <td>3.005</td>\n",
       "      <td>1.0</td>\n",
       "    </tr>\n",
       "  </tbody>\n",
       "</table>\n",
       "</div>"
      ],
      "text/plain": [
       "         company ticker      sector  year  \\\n",
       "0  Goldman Sachs     GS  Financials  1999   \n",
       "1  Goldman Sachs     GS  Financials  2000   \n",
       "2  Goldman Sachs     GS  Financials  2001   \n",
       "3  Goldman Sachs     GS  Financials  2002   \n",
       "4  Goldman Sachs     GS  Financials  2003   \n",
       "\n",
       "                               letter_to_shareholder  net_income  target  \n",
       "0  This is our first letter to shareholders, incl...       2.708     NaN  \n",
       "1  2000 was a remarkable year for Goldman Sachs a...       3.067     1.0  \n",
       "2  It is impossible to discuss 2001 without begin...       2.310     0.0  \n",
       "3  It was a challenging year for Goldman Sachs. T...       2.114     0.0  \n",
       "4  Looking back on 2003, we take pride in our per...       3.005     1.0  "
      ]
     },
     "execution_count": 15,
     "metadata": {},
     "output_type": "execute_result"
    }
   ],
   "source": [
    "shareholder_letters.head()"
   ]
  },
  {
   "cell_type": "code",
   "execution_count": 16,
   "metadata": {},
   "outputs": [
    {
     "data": {
      "text/plain": [
       "company                  0\n",
       "ticker                   0\n",
       "sector                   0\n",
       "year                     0\n",
       "letter_to_shareholder    0\n",
       "net_income               0\n",
       "target                   1\n",
       "dtype: int64"
      ]
     },
     "execution_count": 16,
     "metadata": {},
     "output_type": "execute_result"
    }
   ],
   "source": [
    "shareholder_letters.isnull().sum()"
   ]
  },
  {
   "cell_type": "code",
   "execution_count": 17,
   "metadata": {},
   "outputs": [
    {
     "data": {
      "text/html": [
       "<div>\n",
       "<style scoped>\n",
       "    .dataframe tbody tr th:only-of-type {\n",
       "        vertical-align: middle;\n",
       "    }\n",
       "\n",
       "    .dataframe tbody tr th {\n",
       "        vertical-align: top;\n",
       "    }\n",
       "\n",
       "    .dataframe thead th {\n",
       "        text-align: right;\n",
       "    }\n",
       "</style>\n",
       "<table border=\"1\" class=\"dataframe\">\n",
       "  <thead>\n",
       "    <tr style=\"text-align: right;\">\n",
       "      <th></th>\n",
       "      <th>company</th>\n",
       "      <th>ticker</th>\n",
       "      <th>sector</th>\n",
       "      <th>year</th>\n",
       "      <th>letter_to_shareholder</th>\n",
       "      <th>net_income</th>\n",
       "      <th>target</th>\n",
       "    </tr>\n",
       "  </thead>\n",
       "  <tbody>\n",
       "    <tr>\n",
       "      <th>0</th>\n",
       "      <td>Goldman Sachs</td>\n",
       "      <td>GS</td>\n",
       "      <td>Financials</td>\n",
       "      <td>1999</td>\n",
       "      <td>This is our first letter to shareholders, incl...</td>\n",
       "      <td>2.708</td>\n",
       "      <td>NaN</td>\n",
       "    </tr>\n",
       "  </tbody>\n",
       "</table>\n",
       "</div>"
      ],
      "text/plain": [
       "         company ticker      sector  year  \\\n",
       "0  Goldman Sachs     GS  Financials  1999   \n",
       "\n",
       "                               letter_to_shareholder  net_income  target  \n",
       "0  This is our first letter to shareholders, incl...       2.708     NaN  "
      ]
     },
     "execution_count": 17,
     "metadata": {},
     "output_type": "execute_result"
    }
   ],
   "source": [
    "shareholder_letters[shareholder_letters['target'].isnull() == True]"
   ]
  },
  {
   "cell_type": "code",
   "execution_count": 19,
   "metadata": {},
   "outputs": [
    {
     "name": "stderr",
     "output_type": "stream",
     "text": [
      "/Users/samuelleadley/anaconda3/lib/python3.7/site-packages/ipykernel_launcher.py:2: SettingWithCopyWarning: \n",
      "A value is trying to be set on a copy of a slice from a DataFrame\n",
      "\n",
      "See the caveats in the documentation: http://pandas.pydata.org/pandas-docs/stable/user_guide/indexing.html#returning-a-view-versus-a-copy\n",
      "  \n"
     ]
    }
   ],
   "source": [
    "# imputing the first Goldman Sachs letter to shareholders as positive after manually reading it\n",
    "shareholder_letters['target'][0] = 1"
   ]
  },
  {
   "cell_type": "markdown",
   "metadata": {},
   "source": [
    "Goldman Sachs IPO'd in 1999 so y-charts did not have any net income data prior to 1999. Thus I could not compare the net income year-over-year. Instead I read the letter to shareholders and dermined it was positive. "
   ]
  },
  {
   "cell_type": "code",
   "execution_count": 20,
   "metadata": {},
   "outputs": [
    {
     "data": {
      "text/html": [
       "<div>\n",
       "<style scoped>\n",
       "    .dataframe tbody tr th:only-of-type {\n",
       "        vertical-align: middle;\n",
       "    }\n",
       "\n",
       "    .dataframe tbody tr th {\n",
       "        vertical-align: top;\n",
       "    }\n",
       "\n",
       "    .dataframe thead th {\n",
       "        text-align: right;\n",
       "    }\n",
       "</style>\n",
       "<table border=\"1\" class=\"dataframe\">\n",
       "  <thead>\n",
       "    <tr style=\"text-align: right;\">\n",
       "      <th></th>\n",
       "      <th>company</th>\n",
       "      <th>ticker</th>\n",
       "      <th>sector</th>\n",
       "      <th>year</th>\n",
       "      <th>letter_to_shareholder</th>\n",
       "      <th>net_income</th>\n",
       "      <th>target</th>\n",
       "    </tr>\n",
       "  </thead>\n",
       "  <tbody>\n",
       "    <tr>\n",
       "      <th>0</th>\n",
       "      <td>Goldman Sachs</td>\n",
       "      <td>GS</td>\n",
       "      <td>Financials</td>\n",
       "      <td>1999</td>\n",
       "      <td>This is our first letter to shareholders, incl...</td>\n",
       "      <td>2.708</td>\n",
       "      <td>1.0</td>\n",
       "    </tr>\n",
       "    <tr>\n",
       "      <th>1</th>\n",
       "      <td>Goldman Sachs</td>\n",
       "      <td>GS</td>\n",
       "      <td>Financials</td>\n",
       "      <td>2000</td>\n",
       "      <td>2000 was a remarkable year for Goldman Sachs a...</td>\n",
       "      <td>3.067</td>\n",
       "      <td>1.0</td>\n",
       "    </tr>\n",
       "    <tr>\n",
       "      <th>2</th>\n",
       "      <td>Goldman Sachs</td>\n",
       "      <td>GS</td>\n",
       "      <td>Financials</td>\n",
       "      <td>2001</td>\n",
       "      <td>It is impossible to discuss 2001 without begin...</td>\n",
       "      <td>2.310</td>\n",
       "      <td>0.0</td>\n",
       "    </tr>\n",
       "    <tr>\n",
       "      <th>3</th>\n",
       "      <td>Goldman Sachs</td>\n",
       "      <td>GS</td>\n",
       "      <td>Financials</td>\n",
       "      <td>2002</td>\n",
       "      <td>It was a challenging year for Goldman Sachs. T...</td>\n",
       "      <td>2.114</td>\n",
       "      <td>0.0</td>\n",
       "    </tr>\n",
       "    <tr>\n",
       "      <th>4</th>\n",
       "      <td>Goldman Sachs</td>\n",
       "      <td>GS</td>\n",
       "      <td>Financials</td>\n",
       "      <td>2003</td>\n",
       "      <td>Looking back on 2003, we take pride in our per...</td>\n",
       "      <td>3.005</td>\n",
       "      <td>1.0</td>\n",
       "    </tr>\n",
       "  </tbody>\n",
       "</table>\n",
       "</div>"
      ],
      "text/plain": [
       "         company ticker      sector  year  \\\n",
       "0  Goldman Sachs     GS  Financials  1999   \n",
       "1  Goldman Sachs     GS  Financials  2000   \n",
       "2  Goldman Sachs     GS  Financials  2001   \n",
       "3  Goldman Sachs     GS  Financials  2002   \n",
       "4  Goldman Sachs     GS  Financials  2003   \n",
       "\n",
       "                               letter_to_shareholder  net_income  target  \n",
       "0  This is our first letter to shareholders, incl...       2.708     1.0  \n",
       "1  2000 was a remarkable year for Goldman Sachs a...       3.067     1.0  \n",
       "2  It is impossible to discuss 2001 without begin...       2.310     0.0  \n",
       "3  It was a challenging year for Goldman Sachs. T...       2.114     0.0  \n",
       "4  Looking back on 2003, we take pride in our per...       3.005     1.0  "
      ]
     },
     "execution_count": 20,
     "metadata": {},
     "output_type": "execute_result"
    }
   ],
   "source": [
    "shareholder_letters.head()"
   ]
  },
  {
   "cell_type": "code",
   "execution_count": null,
   "metadata": {},
   "outputs": [],
   "source": []
  },
  {
   "cell_type": "code",
   "execution_count": null,
   "metadata": {},
   "outputs": [],
   "source": []
  },
  {
   "cell_type": "code",
   "execution_count": null,
   "metadata": {},
   "outputs": [],
   "source": [
    "# read in each of the companies share price history\n",
    "GS = pd.read_csv('../datasets/GS_stock_data.csv')\n",
    "BAC = pd.read_csv('../datasets/BAC_stock_data.csv')\n",
    "CVX = pd.read_csv('../datasets/CVX_stock_data.csv')\n",
    "HAL = pd.read_csv('../datasets/HAL_stock_data.csv')\n",
    "QCOM = pd.read_csv('../datasets/QCOM_stock_data.csv')\n",
    "IBM = pd.read_csv('../datasets/IBM_stock_data.csv')\n",
    "ADBE = pd.read_csv('../datasets/ADBE_stock_data.csv')\n",
    "XRX = pd.read_csv('../datasets/XRX_stock_data.csv')\n",
    "UHS = pd.read_csv('../datasets/UHS_stock_data.csv')\n",
    "UNH = pd.read_csv('../datasets/UNH_stock_data.csv')\n",
    "CVS = pd.read_csv('../datasets/CVS_stock_data.csv')"
   ]
  },
  {
   "cell_type": "code",
   "execution_count": null,
   "metadata": {},
   "outputs": [],
   "source": [
    "# create a dictionary of all my dataframes \n",
    "df_dict = {'GS': GS,\n",
    "          'BAC': BAC,\n",
    "          'CVX': CVX,\n",
    "          'HAL': HAL,\n",
    "          'QCOM': QCOM,\n",
    "          'IBM': IBM,\n",
    "          'ADBE': ADBE,\n",
    "          'XRX': XRX,\n",
    "          'UHS': UHS,\n",
    "          'UNH': UNH,\n",
    "          'CVS': CVS}"
   ]
  },
  {
   "cell_type": "code",
   "execution_count": null,
   "metadata": {
    "scrolled": true
   },
   "outputs": [],
   "source": [
    "# test dictionary\n",
    "df_dict['BAC'].head()"
   ]
  },
  {
   "cell_type": "code",
   "execution_count": null,
   "metadata": {},
   "outputs": [],
   "source": [
    "# define a function that returns a binarized target variable based on if the tickers stock had increased within a year\n",
    "def get_first_last_price_df(df_temp):\n",
    "    df = df_temp.copy()\n",
    "    df.drop(['open', 'high', 'low', 'volume'], axis=1, inplace=True)\n",
    "    df['date1'] = df['date']\n",
    "    df['date1'] = pd.to_datetime(df['date1'])\n",
    "    df['date'] = pd.to_datetime(df['date'])\n",
    "    df.set_index('date', inplace = True)\n",
    "    df_first = df.resample('A').agg({'date1': 'min', 'close': 'first'})\n",
    "    df_last = df.resample('A').agg({'date1': 'max', 'close' : 'last'})\n",
    "    df = pd.concat([df_first, df_last], axis = 1)\n",
    "    df.columns = ['first_date', 'first_close', 'last_date', 'last_close']\n",
    "    df.reset_index(inplace=True)\n",
    "    df['year'] = df['date'].dt.year\n",
    "    df['target'] = df['last_close'] - df['first_close']\n",
    "    df['target'] = (df['target'] > 0).astype(int)\n",
    "    df.drop(['date', 'first_date', 'first_close', 'last_date', 'last_close'], axis = 1, inplace = True)\n",
    "    return df"
   ]
  },
  {
   "cell_type": "code",
   "execution_count": null,
   "metadata": {},
   "outputs": [],
   "source": [
    "# apply function to all dataframes\n",
    "for ticker in df_dict.keys():\n",
    "    df_dict[ticker] = get_first_last_price_df(df_dict[ticker])"
   ]
  },
  {
   "cell_type": "code",
   "execution_count": null,
   "metadata": {},
   "outputs": [],
   "source": [
    "# identify which ticker belongs to which dataframe\n",
    "df_dict['GS']['ticker'] = 'GS'\n",
    "df_dict['BAC']['ticker'] = 'BAC'\n",
    "df_dict['CVX']['ticker'] = 'CVX'\n",
    "df_dict['HAL']['ticker'] = 'HAL'\n",
    "df_dict['QCOM']['ticker'] = 'QCOM'\n",
    "df_dict['IBM']['ticker'] = 'IBM'\n",
    "df_dict['ADBE']['ticker'] = 'ADBE'\n",
    "df_dict['XRX']['ticker'] = 'XRX'\n",
    "df_dict['UHS']['ticker'] = 'UHS'\n",
    "df_dict['UNH']['ticker'] = 'UNH'\n",
    "df_dict['CVS']['ticker'] = 'CVS'"
   ]
  },
  {
   "cell_type": "code",
   "execution_count": null,
   "metadata": {},
   "outputs": [],
   "source": [
    "# combine the dataframes\n",
    "target_df = pd.concat([df_dict['GS'], df_dict['BAC'], \n",
    "                       df_dict['CVX'], df_dict['HAL'], \n",
    "                       df_dict['QCOM'], df_dict['IBM'],\n",
    "                       df_dict['ADBE'], df_dict['XRX'],\n",
    "                       df_dict['UHS'], df_dict['UNH'],\n",
    "                       df_dict['CVS']])\n",
    "target_df.reset_index(inplace=True)\n",
    "target_df.drop('index', axis = 1, inplace = True)\n",
    "# create new index to merge the shareholder_letters with target_df\n",
    "target_df['index'] = target_df['ticker'] + target_df['year'].astype(str)"
   ]
  },
  {
   "cell_type": "code",
   "execution_count": null,
   "metadata": {},
   "outputs": [],
   "source": [
    "# create new index to merge the shareholder_letters with target_df\n",
    "shareholder_letters['index'] = shareholder_letters['ticker'] + shareholder_letters['year'].astype(str)"
   ]
  },
  {
   "cell_type": "code",
   "execution_count": null,
   "metadata": {},
   "outputs": [],
   "source": [
    "# merge the shareholder_letters with target_df\n",
    "shareholder_letters = pd.merge(shareholder_letters, target_df, on='index')\n",
    "shareholder_letters.drop(['index', 'year_y', 'ticker_y'], axis = 1, inplace=True)\n",
    "shareholder_letters.columns = ['company', 'ticker', 'sector', 'year', 'letter_to_shareholder', 'target']"
   ]
  },
  {
   "cell_type": "code",
   "execution_count": null,
   "metadata": {},
   "outputs": [],
   "source": [
    "shareholder_letters.head()"
   ]
  },
  {
   "cell_type": "markdown",
   "metadata": {},
   "source": [
    "### Clean Text"
   ]
  },
  {
   "cell_type": "code",
   "execution_count": null,
   "metadata": {},
   "outputs": [],
   "source": [
    "shareholder_letters['letter_to_shareholder'] = shareholder_letters['letter_to_shareholder'].astype(str)"
   ]
  },
  {
   "cell_type": "code",
   "execution_count": null,
   "metadata": {},
   "outputs": [],
   "source": [
    "shareholder_letters['letter_to_shareholder'] = shareholder_letters['letter_to_shareholder'].apply(lambda x: re.sub('[^ a-zA-Z!#]','', x).lower())\n"
   ]
  },
  {
   "cell_type": "code",
   "execution_count": null,
   "metadata": {},
   "outputs": [],
   "source": [
    "shareholder_letters"
   ]
  },
  {
   "cell_type": "code",
   "execution_count": null,
   "metadata": {},
   "outputs": [],
   "source": [
    "# check the balance of target\n",
    "shareholder_letters['target'].value_counts(normalize=True)"
   ]
  },
  {
   "cell_type": "markdown",
   "metadata": {},
   "source": [
    "## Export Data"
   ]
  },
  {
   "cell_type": "code",
   "execution_count": null,
   "metadata": {},
   "outputs": [],
   "source": [
    "shareholder_letters.to_csv('../datasets/clean_df_1.csv')"
   ]
  },
  {
   "cell_type": "markdown",
   "metadata": {},
   "source": [
    "## EDA\n",
    "### CountVectorizer with Entire Corpus"
   ]
  },
  {
   "cell_type": "code",
   "execution_count": null,
   "metadata": {},
   "outputs": [],
   "source": [
    "# Instantiate CountVectorizer to see which words are most common in the letters to shareholders\n",
    "# Removed stop words to see the more unique words that appear\n",
    "cvec = CountVectorizer(stop_words='english')\n",
    "# Fit CountVectorizer to title\n",
    "cvec.fit(shareholder_letters['letter_to_shareholder'])"
   ]
  },
  {
   "cell_type": "code",
   "execution_count": null,
   "metadata": {},
   "outputs": [],
   "source": [
    "# Transform the corpus\n",
    "freq = cvec.transform(shareholder_letters['letter_to_shareholder'])\n",
    "# Convert into a DataFrame\n",
    "freq_df = pd.DataFrame(freq.toarray(), columns = cvec.get_feature_names())"
   ]
  },
  {
   "cell_type": "code",
   "execution_count": null,
   "metadata": {},
   "outputs": [],
   "source": [
    "freq_df.shape"
   ]
  },
  {
   "cell_type": "code",
   "execution_count": null,
   "metadata": {},
   "outputs": [],
   "source": [
    "# Looking at the initial list of most common words in the letters to shareholders\n",
    "freq_df.mean().sort_values(ascending=False)[0:21]"
   ]
  },
  {
   "cell_type": "code",
   "execution_count": null,
   "metadata": {},
   "outputs": [],
   "source": [
    "# Visualization of most frequent words in the letters to shareholders\n",
    "plt.figure(figsize = (12, 10))\n",
    "freq_df.mean().sort_values(ascending=False)[0:21].plot(kind = 'barh', color='cornflowerblue')\n",
    "\n",
    "plt.xlabel('Frequency', size = 15)\n",
    "plt.ylabel('Words', size = 15)\n",
    "plt.title('Most Common Words in Letters to Shareholders', size = 15);"
   ]
  },
  {
   "cell_type": "markdown",
   "metadata": {},
   "source": [
    "The above graph shows the most common words in the letters to shareholders. It is not surprising that words like business, percent, and year are some of the most common words."
   ]
  },
  {
   "cell_type": "markdown",
   "metadata": {},
   "source": [
    "### CountVectorizer with Positive Class"
   ]
  },
  {
   "cell_type": "code",
   "execution_count": null,
   "metadata": {},
   "outputs": [],
   "source": [
    "positive_class = shareholder_letters[shareholder_letters['target'] == 1][['letter_to_shareholder']]"
   ]
  },
  {
   "cell_type": "code",
   "execution_count": null,
   "metadata": {},
   "outputs": [],
   "source": [
    "# Instantiate CountVectorizer to see which words are most common in the positive letters to shareholders\n",
    "# Removed stop words to see the more unique words that appear\n",
    "cvec = CountVectorizer(stop_words='english')\n",
    "# Fit CountVectorizer to title\n",
    "cvec.fit(positive_class['letter_to_shareholder'])"
   ]
  },
  {
   "cell_type": "code",
   "execution_count": null,
   "metadata": {},
   "outputs": [],
   "source": [
    "# Transform the corpus\n",
    "pos_freq = cvec.transform(positive_class['letter_to_shareholder'])\n",
    "# Convert into a DataFrame\n",
    "pos_freq_df = pd.DataFrame(pos_freq.toarray(), columns = cvec.get_feature_names())"
   ]
  },
  {
   "cell_type": "code",
   "execution_count": null,
   "metadata": {
    "scrolled": true
   },
   "outputs": [],
   "source": [
    "# Looking at the initial list of most common words in the positive letters to shareholders\n",
    "pos_freq_df.mean().sort_values(ascending=False)[0:21]"
   ]
  },
  {
   "cell_type": "code",
   "execution_count": null,
   "metadata": {},
   "outputs": [],
   "source": [
    "# create a dataframe of the positive words to later compare to the top words in the negative class\n",
    "positive_words = pd.DataFrame(pos_freq_df.mean().sort_values(ascending=False))\n",
    "positive_words.reset_index(inplace=True)"
   ]
  },
  {
   "cell_type": "code",
   "execution_count": null,
   "metadata": {},
   "outputs": [],
   "source": [
    "# Visualization of most frequent words in the letters to shareholders\n",
    "plt.figure(figsize = (12, 10))\n",
    "pos_freq_df.mean().sort_values(ascending=False)[0:21].plot(kind = 'barh', color='cornflowerblue')\n",
    "\n",
    "plt.xlabel('Frequency', size = 15)\n",
    "plt.ylabel('Words', size = 15)\n",
    "plt.title('Most Common Words in the Positive Letters to Shareholders', size = 15);"
   ]
  },
  {
   "cell_type": "markdown",
   "metadata": {},
   "source": [
    "The words are very similar to that of the whole corpus with the first four words exactly the same. This may indicate that using TfIdf may be a better vectorizer to use because it will penalize words that are common within the corpus. "
   ]
  },
  {
   "cell_type": "markdown",
   "metadata": {},
   "source": [
    "### CountVectorizer with Negative Class"
   ]
  },
  {
   "cell_type": "code",
   "execution_count": null,
   "metadata": {},
   "outputs": [],
   "source": [
    "negative_class = shareholder_letters[shareholder_letters['target'] == 0][['letter_to_shareholder']]"
   ]
  },
  {
   "cell_type": "code",
   "execution_count": null,
   "metadata": {},
   "outputs": [],
   "source": [
    "# Instantiate CountVectorizer to see which words are most common in the negative letters to shareholders\n",
    "# Removed stop words to see the more unique words that appear\n",
    "cvec = CountVectorizer(stop_words='english')\n",
    "# Fit CountVectorizer to title\n",
    "cvec.fit(negative_class['letter_to_shareholder'])"
   ]
  },
  {
   "cell_type": "code",
   "execution_count": null,
   "metadata": {},
   "outputs": [],
   "source": [
    "# Transform the corpus\n",
    "neg_freq = cvec.transform(negative_class['letter_to_shareholder'])\n",
    "# Convert into a DataFrame\n",
    "neg_freq_df = pd.DataFrame(neg_freq.toarray(), columns = cvec.get_feature_names())"
   ]
  },
  {
   "cell_type": "code",
   "execution_count": null,
   "metadata": {},
   "outputs": [],
   "source": [
    "neg_freq_df.shape"
   ]
  },
  {
   "cell_type": "code",
   "execution_count": null,
   "metadata": {},
   "outputs": [],
   "source": [
    "# Looking at the initial list of most common words in the negative letters to shareholders\n",
    "neg_freq_df.mean().sort_values(ascending=False)[0:21]"
   ]
  },
  {
   "cell_type": "code",
   "execution_count": null,
   "metadata": {},
   "outputs": [],
   "source": [
    "# create a dataframe of the negative words to later compare to the top words in the negative class\n",
    "negative_words = pd.DataFrame(neg_freq_df.mean().sort_values(ascending=False))\n",
    "negative_words.reset_index(inplace=True)"
   ]
  },
  {
   "cell_type": "code",
   "execution_count": null,
   "metadata": {
    "scrolled": false
   },
   "outputs": [],
   "source": [
    "# Visualization of most frequent words in the letters to shareholders\n",
    "plt.figure(figsize = (12, 10))\n",
    "neg_freq_df.mean().sort_values(ascending=False)[0:21].plot(kind = 'barh', color='cornflowerblue')\n",
    "\n",
    "plt.xlabel('Frequency', size = 15)\n",
    "plt.ylabel('Words', size = 15)\n",
    "plt.title('Most Common Words in the Negative Letters to Shareholders', size = 15);"
   ]
  },
  {
   "cell_type": "markdown",
   "metadata": {},
   "source": [
    "Both the positive and negative letters to shareholders have very similar words. It is logical that most of these words would come up in both classes because the letters are written using very similar jargon and discourse."
   ]
  },
  {
   "cell_type": "markdown",
   "metadata": {},
   "source": [
    "### Positve vs. Negative Words"
   ]
  },
  {
   "cell_type": "code",
   "execution_count": null,
   "metadata": {},
   "outputs": [],
   "source": [
    "set(positive_words['index']) - set(negative_words['index']) "
   ]
  },
  {
   "cell_type": "code",
   "execution_count": null,
   "metadata": {},
   "outputs": [],
   "source": [
    "set(negative_words['index']) - set(positive_words['index'])"
   ]
  },
  {
   "cell_type": "markdown",
   "metadata": {},
   "source": [
    "### CountVectorizer with Entire Corpus: ngram_range = (2, 2)"
   ]
  },
  {
   "cell_type": "code",
   "execution_count": null,
   "metadata": {},
   "outputs": [],
   "source": [
    "# Instantiate CountVectorizer to see which words are most common in the letters to shareholders\n",
    "# Removed stop words to see the more unique words that appear\n",
    "cvec = CountVectorizer(stop_words='english', ngram_range=(2,2))\n",
    "# Fit CountVectorizer to title\n",
    "cvec.fit(shareholder_letters['letter_to_shareholder'])"
   ]
  },
  {
   "cell_type": "code",
   "execution_count": null,
   "metadata": {},
   "outputs": [],
   "source": [
    "# Transform the corpus\n",
    "freq = cvec.transform(shareholder_letters['letter_to_shareholder'])\n",
    "# Convert into a DataFrame\n",
    "freq_df = pd.DataFrame(freq.toarray(), columns = cvec.get_feature_names())"
   ]
  },
  {
   "cell_type": "code",
   "execution_count": null,
   "metadata": {},
   "outputs": [],
   "source": [
    "freq_df.columns"
   ]
  },
  {
   "cell_type": "code",
   "execution_count": null,
   "metadata": {},
   "outputs": [],
   "source": [
    "# Looking at the initial list of most common words in the letters to shareholders\n",
    "freq_df.mean().sort_values(ascending=False)[0:21]"
   ]
  },
  {
   "cell_type": "code",
   "execution_count": null,
   "metadata": {},
   "outputs": [],
   "source": [
    "# Visualization of most frequent words in the letters to shareholders\n",
    "plt.figure(figsize = (12, 10))\n",
    "freq_df.mean().sort_values(ascending=False)[0:21].plot(kind = 'barh', color='cornflowerblue')\n",
    "\n",
    "plt.xlabel('Frequency', size = 15)\n",
    "plt.ylabel('Words', size = 15)\n",
    "plt.title('Most Common Word Pairs in the Letters to Shareholders', size = 15);"
   ]
  },
  {
   "cell_type": "markdown",
   "metadata": {},
   "source": []
  },
  {
   "cell_type": "markdown",
   "metadata": {},
   "source": [
    "### CountVectorizer with Positive Class: ngram_range = (2, 2)"
   ]
  },
  {
   "cell_type": "code",
   "execution_count": null,
   "metadata": {},
   "outputs": [],
   "source": [
    "# Instantiate CountVectorizer to see which word pairs are most common in the positive letters to shareholders\n",
    "# Removed stop words to see the more unique words that appear\n",
    "cvec = CountVectorizer(stop_words='english', ngram_range=(2,2))\n",
    "# Fit CountVectorizer to title\n",
    "cvec.fit(positive_class['letter_to_shareholder'])"
   ]
  },
  {
   "cell_type": "code",
   "execution_count": null,
   "metadata": {},
   "outputs": [],
   "source": [
    "# Transform the corpus\n",
    "pos_freq = cvec.transform(positive_class['letter_to_shareholder'])\n",
    "# Convert into a DataFrame\n",
    "pos_freq_df = pd.DataFrame(pos_freq.toarray(), columns = cvec.get_feature_names())"
   ]
  },
  {
   "cell_type": "code",
   "execution_count": null,
   "metadata": {},
   "outputs": [],
   "source": [
    "# Looking at the initial list of most common word pairs in the positive letters to shareholders\n",
    "pos_freq_df.mean().sort_values(ascending=False)[0:21]"
   ]
  },
  {
   "cell_type": "code",
   "execution_count": null,
   "metadata": {},
   "outputs": [],
   "source": [
    "# Visualization of most frequent word pairs in the letters to shareholders\n",
    "plt.figure(figsize = (12, 10))\n",
    "pos_freq_df.mean().sort_values(ascending=False)[0:21].plot(kind = 'barh', color='cornflowerblue')\n",
    "\n",
    "plt.xlabel('Frequency', size = 15)\n",
    "plt.ylabel('Words', size = 15)\n",
    "plt.title('Most Common Word Pairs in the Positive Letters to Shareholders', size = 15);"
   ]
  },
  {
   "cell_type": "markdown",
   "metadata": {},
   "source": []
  },
  {
   "cell_type": "markdown",
   "metadata": {},
   "source": [
    "### CountVectorizer with Negative Class: ngram_range(2, 2)"
   ]
  },
  {
   "cell_type": "code",
   "execution_count": null,
   "metadata": {},
   "outputs": [],
   "source": [
    "# Instantiate CountVectorizer to see which word pairs are most common in the negative letters to shareholders\n",
    "# Removed stop words to see the more unique words that appear\n",
    "cvec = CountVectorizer(stop_words='english', ngram_range=(2,2))\n",
    "# Fit CountVectorizer to title\n",
    "cvec.fit(negative_class['letter_to_shareholder'])"
   ]
  },
  {
   "cell_type": "code",
   "execution_count": null,
   "metadata": {},
   "outputs": [],
   "source": [
    "# Transform the corpus\n",
    "neg_freq = cvec.transform(negative_class['letter_to_shareholder'])\n",
    "# Convert into a DataFrame\n",
    "neg_freq_df = pd.DataFrame(neg_freq.toarray(), columns = cvec.get_feature_names())"
   ]
  },
  {
   "cell_type": "code",
   "execution_count": null,
   "metadata": {},
   "outputs": [],
   "source": [
    "# Looking at the initial list of most common words in the positive letters to shareholders\n",
    "neg_freq_df.mean().sort_values(ascending=False)[0:21]"
   ]
  },
  {
   "cell_type": "code",
   "execution_count": null,
   "metadata": {},
   "outputs": [],
   "source": [
    "# Visualization of most frequent words in the letters to shareholders\n",
    "plt.figure(figsize = (12, 10))\n",
    "neg_freq_df.mean().sort_values(ascending=False)[0:21].plot(kind = 'barh', color='cornflowerblue')\n",
    "\n",
    "plt.xlabel('Frequency', size = 15)\n",
    "plt.ylabel('Words', size = 15)\n",
    "plt.title('Most Common Word Pairs in the Negative Letters to Shareholders', size = 15);"
   ]
  },
  {
   "cell_type": "markdown",
   "metadata": {},
   "source": [
    "### Industry EDA"
   ]
  },
  {
   "cell_type": "code",
   "execution_count": null,
   "metadata": {},
   "outputs": [],
   "source": [
    "ls = []\n",
    "for letter in shareholder_letters['letter_to_shareholder']:\n",
    "    length = len(letter)\n",
    "    ls.append(length)\n",
    "    letter_len = pd.DataFrame(ls)"
   ]
  },
  {
   "cell_type": "code",
   "execution_count": null,
   "metadata": {},
   "outputs": [],
   "source": [
    "shareholder_letters = pd.concat([shareholder_letters, letter_len], axis = 1)\n",
    "shareholder_letters.rename(columns={0: 'length'}, inplace=True)"
   ]
  },
  {
   "cell_type": "code",
   "execution_count": null,
   "metadata": {},
   "outputs": [],
   "source": [
    "avg_sector_lengths = shareholder_letters.groupby('sector').mean()[['length']]"
   ]
  },
  {
   "cell_type": "code",
   "execution_count": null,
   "metadata": {},
   "outputs": [],
   "source": [
    "# Visualization of most frequent words in the letters to shareholders\n",
    "plt.figure(figsize = (12, 10))\n",
    "avg_sector_lengths.sort_values(by = 'length', ascending=False).plot(kind = 'barh', color='cornflowerblue')\n",
    "\n",
    "plt.xlabel('Length', size = 15)\n",
    "plt.ylabel('Sector', size = 15)\n",
    "plt.title('Average Length of Letters to Shareholders Across Sectors', size = 15);"
   ]
  },
  {
   "cell_type": "markdown",
   "metadata": {},
   "source": [
    "As evidenced by tha graph above there are clear differences in the length of shareholders letters in each sector. The finacials sector has quite verbose letters to its shareholders while the energy sector like to keep its letters fairly short."
   ]
  },
  {
   "cell_type": "code",
   "execution_count": null,
   "metadata": {},
   "outputs": [],
   "source": [
    "postive_vs_negative_years = shareholder_letters.groupby('sector').mean()[['target']]"
   ]
  },
  {
   "cell_type": "code",
   "execution_count": null,
   "metadata": {},
   "outputs": [],
   "source": [
    "# Visualization of most frequent words in the letters to shareholders\n",
    "plt.figure(figsize = (12, 10))\n",
    "postive_vs_negative_years.sort_values(by = 'target', ascending=False).plot(kind = 'barh', color='cornflowerblue')\n",
    "\n",
    "plt.xlabel('Frequency', size = 15)\n",
    "plt.ylabel('Sector', size = 15)\n",
    "plt.title('Percentage of Positive vs. Negative Years by Sector', size = 15);"
   ]
  },
  {
   "cell_type": "markdown",
   "metadata": {},
   "source": [
    "Looking at the graph above we can infer that the Heathcare sector fared the best over the time period having positive years more than 70 percent of the time while the Info Tech sector did the worst. Info Tech likley perfromed worse than the other sectors because of the dot com bubble however I am surpised that the financials sector fared second best seeing as it was also hit hard by the 2008 recession. "
   ]
  },
  {
   "cell_type": "code",
   "execution_count": null,
   "metadata": {},
   "outputs": [],
   "source": []
  }
 ],
 "metadata": {
  "kernelspec": {
   "display_name": "Python 3",
   "language": "python",
   "name": "python3"
  },
  "language_info": {
   "codemirror_mode": {
    "name": "ipython",
    "version": 3
   },
   "file_extension": ".py",
   "mimetype": "text/x-python",
   "name": "python",
   "nbconvert_exporter": "python",
   "pygments_lexer": "ipython3",
   "version": "3.7.3"
  }
 },
 "nbformat": 4,
 "nbformat_minor": 2
}
